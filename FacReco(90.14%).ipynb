{
 "cells": [
  {
   "cell_type": "code",
   "execution_count": 1,
   "metadata": {
    "_cell_guid": "b1076dfc-b9ad-4769-8c92-a6c4dae69d19",
    "_uuid": "8f2839f25d086af736a60e9eeb907d3b93b6e0e5"
   },
   "outputs": [
    {
     "name": "stdout",
     "output_type": "stream",
     "text": [
      "['fer2013.csv']\n"
     ]
    }
   ],
   "source": [
    "# This Python 3 environment comes with many helpful analytics libraries installed\n",
    "# It is defined by the kaggle/python docker image: https://github.com/kaggle/docker-python\n",
    "# For example, here's several helpful packages to load in \n",
    "\n",
    "import numpy as np # linear algebra\n",
    "import pandas as pd # data processing, CSV file I/O (e.g. pd.read_csv)\n",
    "\n",
    "# Input data files are available in the \"../input/\" directory.\n",
    "# For example, running this (by clicking run or pressing Shift+Enter) will list the files in the input directory\n",
    "\n",
    "import os\n",
    "print(os.listdir(\"../input\"))\n",
    "\n",
    "# Any results you write to the current directory are saved as output."
   ]
  },
  {
   "cell_type": "code",
   "execution_count": 2,
   "metadata": {
    "_cell_guid": "79c7e3d0-c299-4dcb-8224-4455121ee9b0",
    "_uuid": "d629ff2d2480ee46fbb7e2d37f6b5fab8052498a",
    "collapsed": true
   },
   "outputs": [],
   "source": [
    "import pandas as pd\n",
    "import numpy as np\n",
    "from matplotlib import pyplot as plt\n",
    "%matplotlib inline"
   ]
  },
  {
   "cell_type": "code",
   "execution_count": 3,
   "metadata": {
    "_uuid": "51829e42bfc588513484bb94e0125c851bf74080"
   },
   "outputs": [
    {
     "data": {
      "text/plain": [
       "['__notebook_source__.ipynb', '.ipynb_checkpoints']"
      ]
     },
     "execution_count": 3,
     "metadata": {},
     "output_type": "execute_result"
    }
   ],
   "source": [
    "os.listdir('./')"
   ]
  },
  {
   "cell_type": "code",
   "execution_count": 4,
   "metadata": {
    "_uuid": "a727fd2a75cf582c22a6cc79651cf0f601fb8687"
   },
   "outputs": [
    {
     "name": "stdout",
     "output_type": "stream",
     "text": [
      "(35887, 3)\n"
     ]
    }
   ],
   "source": [
    "x = pd.read_csv('../input/fer2013.csv')\n",
    "print (x.values.shape)"
   ]
  },
  {
   "cell_type": "code",
   "execution_count": 5,
   "metadata": {
    "_uuid": "7336e46ea554033481f7d03c155c8b8c956bde7c"
   },
   "outputs": [
    {
     "data": {
      "text/html": [
       "<div>\n",
       "<style scoped>\n",
       "    .dataframe tbody tr th:only-of-type {\n",
       "        vertical-align: middle;\n",
       "    }\n",
       "\n",
       "    .dataframe tbody tr th {\n",
       "        vertical-align: top;\n",
       "    }\n",
       "\n",
       "    .dataframe thead th {\n",
       "        text-align: right;\n",
       "    }\n",
       "</style>\n",
       "<table border=\"1\" class=\"dataframe\">\n",
       "  <thead>\n",
       "    <tr style=\"text-align: right;\">\n",
       "      <th></th>\n",
       "      <th>emotion</th>\n",
       "      <th>pixels</th>\n",
       "      <th>Usage</th>\n",
       "    </tr>\n",
       "  </thead>\n",
       "  <tbody>\n",
       "    <tr>\n",
       "      <th>0</th>\n",
       "      <td>0</td>\n",
       "      <td>70 80 82 72 58 58 60 63 54 58 60 48 89 115 121...</td>\n",
       "      <td>Training</td>\n",
       "    </tr>\n",
       "    <tr>\n",
       "      <th>1</th>\n",
       "      <td>0</td>\n",
       "      <td>151 150 147 155 148 133 111 140 170 174 182 15...</td>\n",
       "      <td>Training</td>\n",
       "    </tr>\n",
       "    <tr>\n",
       "      <th>2</th>\n",
       "      <td>2</td>\n",
       "      <td>231 212 156 164 174 138 161 173 182 200 106 38...</td>\n",
       "      <td>Training</td>\n",
       "    </tr>\n",
       "    <tr>\n",
       "      <th>3</th>\n",
       "      <td>4</td>\n",
       "      <td>24 32 36 30 32 23 19 20 30 41 21 22 32 34 21 1...</td>\n",
       "      <td>Training</td>\n",
       "    </tr>\n",
       "    <tr>\n",
       "      <th>4</th>\n",
       "      <td>6</td>\n",
       "      <td>4 0 0 0 0 0 0 0 0 0 0 0 3 15 23 28 48 50 58 84...</td>\n",
       "      <td>Training</td>\n",
       "    </tr>\n",
       "  </tbody>\n",
       "</table>\n",
       "</div>"
      ],
      "text/plain": [
       "   emotion                                             pixels     Usage\n",
       "0        0  70 80 82 72 58 58 60 63 54 58 60 48 89 115 121...  Training\n",
       "1        0  151 150 147 155 148 133 111 140 170 174 182 15...  Training\n",
       "2        2  231 212 156 164 174 138 161 173 182 200 106 38...  Training\n",
       "3        4  24 32 36 30 32 23 19 20 30 41 21 22 32 34 21 1...  Training\n",
       "4        6  4 0 0 0 0 0 0 0 0 0 0 0 3 15 23 28 48 50 58 84...  Training"
      ]
     },
     "execution_count": 5,
     "metadata": {},
     "output_type": "execute_result"
    }
   ],
   "source": [
    "x.head()"
   ]
  },
  {
   "cell_type": "code",
   "execution_count": 6,
   "metadata": {
    "_uuid": "6e9c36ef5d4629c3caaa2451cc44e9d3a96b1fff"
   },
   "outputs": [
    {
     "name": "stdout",
     "output_type": "stream",
     "text": [
      "(35887, 3)\n",
      "0\n"
     ]
    }
   ],
   "source": [
    "data = x.values\n",
    "print (data.shape)\n",
    "print (data[0, 0])"
   ]
  },
  {
   "cell_type": "code",
   "execution_count": 7,
   "metadata": {
    "_uuid": "e095238a0b8a38be233dc9563d838e832071571d"
   },
   "outputs": [
    {
     "name": "stdout",
     "output_type": "stream",
     "text": [
      "<class 'numpy.ndarray'>\n",
      "8287\n",
      "3\n"
     ]
    }
   ],
   "source": [
    "y = data[:, 0]\n",
    "pixels = data[:, 1]\n",
    "print (type(pixels))\n",
    "print (len(pixels[0]))\n",
    "print (pixels[10][10])"
   ]
  },
  {
   "cell_type": "code",
   "execution_count": 8,
   "metadata": {
    "_uuid": "f6c9b685d00875a0636ba88797f880b49b26fc55",
    "collapsed": true
   },
   "outputs": [],
   "source": [
    "X = np.zeros((pixels.shape[0], 48*48))\n",
    "\n",
    "for ix in range(X.shape[0]):\n",
    "    p = pixels[ix].split(' ')\n",
    "    for iy in range(X.shape[1]):\n",
    "        X[ix, iy] = int(p[iy])"
   ]
  },
  {
   "cell_type": "code",
   "execution_count": 9,
   "metadata": {
    "_uuid": "902603aa9e1ddf242a7c25a5878399ebc4700ff6"
   },
   "outputs": [
    {
     "name": "stderr",
     "output_type": "stream",
     "text": [
      "/opt/conda/lib/python3.6/site-packages/h5py/__init__.py:36: FutureWarning: Conversion of the second argument of issubdtype from `float` to `np.floating` is deprecated. In future, it will be treated as `np.float64 == np.dtype(float).type`.\n",
      "  from ._conv import register_converters as _register_converters\n",
      "Using TensorFlow backend.\n"
     ]
    }
   ],
   "source": [
    "import numpy as np\n",
    "from matplotlib import pyplot as plt\n",
    "%matplotlib inline\n",
    "import os\n",
    "from keras.layers import Dense, Convolution2D, UpSampling2D, MaxPooling2D, ZeroPadding2D, Flatten, Dropout, Reshape\n",
    "from keras.models import Sequential\n",
    "from keras.utils import np_utils"
   ]
  },
  {
   "cell_type": "code",
   "execution_count": 10,
   "metadata": {
    "_uuid": "0eedfdf291db37449763cb8c7a2b67c5ebd1cfd7"
   },
   "outputs": [
    {
     "data": {
      "text/plain": [
       "array([[ 70.,  80.,  82., ..., 106., 109.,  82.],\n",
       "       [151., 150., 147., ..., 193., 183., 184.],\n",
       "       [231., 212., 156., ...,  88., 110., 152.],\n",
       "       ...,\n",
       "       [ 17.,  17.,  16., ..., 154., 133., 113.],\n",
       "       [ 30.,  28.,  28., ...,  35.,  30.,  28.],\n",
       "       [ 19.,  13.,  14., ..., 189., 199., 201.]])"
      ]
     },
     "execution_count": 10,
     "metadata": {},
     "output_type": "execute_result"
    }
   ],
   "source": [
    "X"
   ]
  },
  {
   "cell_type": "code",
   "execution_count": 11,
   "metadata": {
    "_uuid": "3458bc83b34a29eb51b4de60af561251a00dcb80"
   },
   "outputs": [
    {
     "data": {
      "text/plain": [
       "array([0, 0, 2, ..., 0, 3, 2], dtype=object)"
      ]
     },
     "execution_count": 11,
     "metadata": {},
     "output_type": "execute_result"
    }
   ],
   "source": [
    "y"
   ]
  },
  {
   "cell_type": "code",
   "execution_count": 12,
   "metadata": {
    "_uuid": "8706c2c5ddee2b4348b3a38396f2b0ee27f83e6b",
    "collapsed": true
   },
   "outputs": [],
   "source": [
    "x = X"
   ]
  },
  {
   "cell_type": "code",
   "execution_count": 13,
   "metadata": {
    "_uuid": "2f25df828a394d05e250808ee02dd2730ef4f839"
   },
   "outputs": [
    {
     "data": {
      "image/png": "[encoded data removed]",
      "text/plain": [
       "<matplotlib.figure.Figure at 0x7f19202cb400>"
      ]
     },
     "metadata": {},
     "output_type": "display_data"
    },
    {
     "data": {
      "image/png": "[encoded data removed]",
      "text/plain": [
       "<matplotlib.figure.Figure at 0x7f18bcb4a358>"
      ]
     },
     "metadata": {},
     "output_type": "display_data"
    },
    {
     "data": {
      "image/png": "[encoded data removed]",
      "text/plain": [
       "<matplotlib.figure.Figure at 0x7f18bca91c50>"
      ]
     },
     "metadata": {},
     "output_type": "display_data"
    },
    {
     "data": {
      "image/png": "[encoded data removed]",
      "text/plain": [
       "<matplotlib.figure.Figure at 0x7f18bcc68668>"
      ]
     },
     "metadata": {},
     "output_type": "display_data"
    }
   ],
   "source": [
    "for ix in range(4):\n",
    "    plt.figure(ix)\n",
    "    plt.imshow(x[ix].reshape((48, 48)), interpolation='none', cmap='gray')\n",
    "plt.show()"
   ]
  },
  {
   "cell_type": "code",
   "execution_count": 14,
   "metadata": {
    "_uuid": "96e08423c9201fa99bac1ef3d23ef4ccb93bfdec",
    "collapsed": true
   },
   "outputs": [],
   "source": [
    "x = x / 255"
   ]
  },
  {
   "cell_type": "code",
   "execution_count": 15,
   "metadata": {
    "_uuid": "7402563984fb4b1a4c6cb2d24673d4bc54fcc4a0"
   },
   "outputs": [
    {
     "data": {
      "text/plain": [
       "array([[0.2745098 , 0.31372549, 0.32156863, ..., 0.41568627, 0.42745098,\n",
       "        0.32156863],\n",
       "       [0.59215686, 0.58823529, 0.57647059, ..., 0.75686275, 0.71764706,\n",
       "        0.72156863],\n",
       "       [0.90588235, 0.83137255, 0.61176471, ..., 0.34509804, 0.43137255,\n",
       "        0.59607843],\n",
       "       ...,\n",
       "       [0.06666667, 0.06666667, 0.0627451 , ..., 0.60392157, 0.52156863,\n",
       "        0.44313725],\n",
       "       [0.11764706, 0.10980392, 0.10980392, ..., 0.1372549 , 0.11764706,\n",
       "        0.10980392],\n",
       "       [0.0745098 , 0.05098039, 0.05490196, ..., 0.74117647, 0.78039216,\n",
       "        0.78823529]])"
      ]
     },
     "execution_count": 15,
     "metadata": {},
     "output_type": "execute_result"
    }
   ],
   "source": [
    "x"
   ]
  },
  {
   "cell_type": "code",
   "execution_count": 16,
   "metadata": {
    "_uuid": "4632dd6c1e3f40ce95f472079311f086edabb1d0"
   },
   "outputs": [
    {
     "name": "stdout",
     "output_type": "stream",
     "text": [
      "(28710, 2304) (28710,)\n",
      "(3590, 2304) (3590,)\n"
     ]
    }
   ],
   "source": [
    "X_train = x[0:28710, :]\n",
    "Y_train = y[0:28710]\n",
    "print (X_train.shape, Y_train.shape)\n",
    "X_crossval = x[28710:32300, :]\n",
    "Y_crossval = y[28710:32300]\n",
    "print (X_crossval.shape, Y_crossval.shape)"
   ]
  },
  {
   "cell_type": "code",
   "execution_count": 17,
   "metadata": {
    "_uuid": "9ff5880c16b551f79966bc403bb4adc288af7f5a",
    "collapsed": true
   },
   "outputs": [],
   "source": [
    "X_train = X_train.reshape((X_train.shape[0], 1 , 48, 48 ))\n",
    "X_crossval = X_crossval.reshape((X_crossval.shape[0], 1 ,48, 48))"
   ]
  },
  {
   "cell_type": "code",
   "execution_count": 18,
   "metadata": {
    "_uuid": "8d7b1380bb530f4201fd2e4cf415ac6eaf24076d"
   },
   "outputs": [
    {
     "data": {
      "text/plain": [
       "(28710, 1, 48, 48)"
      ]
     },
     "execution_count": 18,
     "metadata": {},
     "output_type": "execute_result"
    }
   ],
   "source": [
    "X_train.shape"
   ]
  },
  {
   "cell_type": "code",
   "execution_count": 19,
   "metadata": {
    "_uuid": "bce316ac1ebe38fbcfe203a5d6b95fcc984a192f"
   },
   "outputs": [
    {
     "name": "stdout",
     "output_type": "stream",
     "text": [
      "(35887,)\n",
      "(35887, 7)\n"
     ]
    }
   ],
   "source": [
    "print (y.shape)\n",
    "y_ = np_utils.to_categorical(y, 7)\n",
    "print (y_.shape)"
   ]
  },
  {
   "cell_type": "code",
   "execution_count": 20,
   "metadata": {
    "_uuid": "212aeffd545b671f27668e75b0c4bef266cfc8b1"
   },
   "outputs": [
    {
     "name": "stdout",
     "output_type": "stream",
     "text": [
      "(3590, 1, 48, 48) (3590, 7)\n"
     ]
    }
   ],
   "source": [
    "Y_train = y_[:28710]\n",
    "Y_crossval = y_[28710:32300]\n",
    "print (X_crossval.shape, Y_crossval.shape)"
   ]
  },
  {
   "cell_type": "code",
   "execution_count": 21,
   "metadata": {
    "_uuid": "42ae3b6c63e1db3653272af8c234043065d194c5"
   },
   "outputs": [
    {
     "name": "stderr",
     "output_type": "stream",
     "text": [
      "/opt/conda/lib/python3.6/site-packages/Keras-2.1.5-py3.6.egg/keras/preprocessing/image.py:930: UserWarning: Expected input to be images (as Numpy array) following the data format convention \"channels_last\" (channels on axis 3), i.e. expected either 1, 3 or 4 channels on axis 3. However, it was passed an array with shape (28710, 1, 48, 48) (48 channels).\n"
     ]
    }
   ],
   "source": [
    "from keras.preprocessing.image import ImageDataGenerator\n",
    "\n",
    "datagen = ImageDataGenerator(\n",
    "        featurewise_center=False,  \n",
    "        samplewise_center=False,  \n",
    "        featurewise_std_normalization=False,  \n",
    "        samplewise_std_normalization=False,  \n",
    "        zca_whitening=False,  \n",
    "        rotation_range=10,  \n",
    "        zoom_range = 0.0,  \n",
    "        width_shift_range=0.1,  \n",
    "        height_shift_range=0.1,  \n",
    "        horizontal_flip=False, \n",
    "        vertical_flip=False)  \n",
    "\n",
    "datagen.fit(X_train)"
   ]
  },
  {
   "cell_type": "code",
   "execution_count": 22,
   "metadata": {
    "_uuid": "5cf12f6dd9b078bc02f920ad13ce55898463ad45"
   },
   "outputs": [
    {
     "name": "stderr",
     "output_type": "stream",
     "text": [
      "/opt/conda/lib/python3.6/site-packages/Keras-2.1.5-py3.6.egg/keras/callbacks.py:919: UserWarning: `epsilon` argument is deprecated and will be removed, use `min_delta` insted.\n"
     ]
    }
   ],
   "source": [
    "from keras.callbacks import ReduceLROnPlateau\n",
    "lr_reduce = ReduceLROnPlateau(monitor='val_acc', factor=0.1, epsilon=0.0001, patience=1, verbose=1)"
   ]
  },
  {
   "cell_type": "code",
   "execution_count": 23,
   "metadata": {
    "_uuid": "2ea388617dd08d9a5cf15c8cf8ea27ac3354913f",
    "collapsed": true
   },
   "outputs": [],
   "source": [
    "from keras.layers import Dense , Activation\n",
    "from keras.layers import Dropout\n",
    "from keras.layers import Flatten\n",
    "from keras.constraints import maxnorm\n",
    "from keras.optimizers import SGD , Adam\n",
    "from keras.layers import Conv2D , BatchNormalization\n",
    "from keras.layers import MaxPooling2D\n",
    "from keras.utils import np_utils\n",
    "from keras import backend as K\n",
    "K.set_image_dim_ordering('th')"
   ]
  },
  {
   "cell_type": "code",
   "execution_count": 26,
   "metadata": {
    "_uuid": "0ff40c69ba64a1a1b94814623036e4db2d720927"
   },
   "outputs": [
    {
     "name": "stdout",
     "output_type": "stream",
     "text": [
      "_________________________________________________________________\n",
      "Layer (type)                 Output Shape              Param #   \n",
      "=================================================================\n",
      "conv2d_18 (Conv2D)           (None, 32, 48, 48)        320       \n",
      "_________________________________________________________________\n",
      "conv2d_19 (Conv2D)           (None, 32, 48, 48)        9248      \n",
      "_________________________________________________________________\n",
      "max_pooling2d_9 (MaxPooling2 (None, 32, 24, 24)        0         \n",
      "_________________________________________________________________\n",
      "conv2d_20 (Conv2D)           (None, 64, 24, 24)        18496     \n",
      "_________________________________________________________________\n",
      "conv2d_21 (Conv2D)           (None, 64, 24, 24)        36928     \n",
      "_________________________________________________________________\n",
      "max_pooling2d_10 (MaxPooling (None, 64, 12, 12)        0         \n",
      "_________________________________________________________________\n",
      "conv2d_22 (Conv2D)           (None, 96, 12, 12)        55392     \n",
      "_________________________________________________________________\n",
      "conv2d_23 (Conv2D)           (None, 96, 10, 10)        83040     \n",
      "_________________________________________________________________\n",
      "max_pooling2d_11 (MaxPooling (None, 96, 5, 5)          0         \n",
      "_________________________________________________________________\n",
      "conv2d_24 (Conv2D)           (None, 128, 5, 5)         110720    \n",
      "_________________________________________________________________\n",
      "conv2d_25 (Conv2D)           (None, 128, 3, 3)         147584    \n",
      "_________________________________________________________________\n",
      "max_pooling2d_12 (MaxPooling (None, 128, 1, 1)         0         \n",
      "_________________________________________________________________\n",
      "flatten_3 (Flatten)          (None, 128)               0         \n",
      "_________________________________________________________________\n",
      "dense_5 (Dense)              (None, 64)                8256      \n",
      "_________________________________________________________________\n",
      "dropout_3 (Dropout)          (None, 64)                0         \n",
      "_________________________________________________________________\n",
      "dense_6 (Dense)              (None, 7)                 455       \n",
      "=================================================================\n",
      "Total params: 470,439\n",
      "Trainable params: 470,439\n",
      "Non-trainable params: 0\n",
      "_________________________________________________________________\n",
      "None\n"
     ]
    }
   ],
   "source": [
    "def swish_activation(x):\n",
    "    return (K.sigmoid(x) * x)\n",
    "\n",
    "model = Sequential()\n",
    "\n",
    "model.add(Conv2D(32, (3, 3), activation='relu', padding=\"same\", input_shape=(1,48,48)))\n",
    "model.add(Conv2D(32, (3, 3), padding=\"same\", activation='relu'))\n",
    "model.add(MaxPooling2D(pool_size=(2, 2)))\n",
    "model.add(Conv2D(64, (3, 3), activation='relu', padding=\"same\"))\n",
    "model.add(Conv2D(64, (3, 3), padding=\"same\", activation='relu'))\n",
    "model.add(MaxPooling2D(pool_size=(2, 2)))\n",
    "model.add(Conv2D(96, (3, 3), dilation_rate=(2, 2), activation='relu', padding=\"same\"))\n",
    "model.add(Conv2D(96, (3, 3), padding=\"valid\", activation='relu'))\n",
    "model.add(MaxPooling2D(pool_size=(2, 2)))\n",
    "model.add(Conv2D(128, (3, 3), dilation_rate=(2, 2), activation='relu', padding=\"same\"))\n",
    "model.add(Conv2D(128, (3, 3), padding=\"valid\", activation='relu'))\n",
    "model.add(MaxPooling2D(pool_size=(2, 2)))\n",
    "model.add(Flatten())\n",
    "model.add(Dense(64, activation=swish_activation))\n",
    "model.add(Dropout(0.4))\n",
    "model.add(Dense(7 , activation='sigmoid'))\n",
    "\n",
    "model.compile(loss='binary_crossentropy',\n",
    "              optimizer='adam' ,\n",
    "              metrics=['accuracy'])\n",
    "\n",
    "print(model.summary())"
   ]
  },
  {
   "cell_type": "code",
   "execution_count": 28,
   "metadata": {
    "_uuid": "70686811aaad2242e90ee912196307c47678420e",
    "collapsed": true
   },
   "outputs": [],
   "source": [
    "batch_size = 128\n",
    "epochs = 20\n",
    "\n",
    "model.compile(loss='binary_crossentropy', optimizer='adam' , metrics=['accuracy'])\n",
    "steps_per_epoch = len(X) // batch_size\n",
    "validation_steps = len((X_crossval, Y_crossval)) // batch_size"
   ]
  },
  {
   "cell_type": "code",
   "execution_count": 29,
   "metadata": {
    "_uuid": "14d69c974400d8297b117095cab6dccd06f21e72",
    "scrolled": true
   },
   "outputs": [
    {
     "name": "stderr",
     "output_type": "stream",
     "text": [
      "/opt/conda/lib/python3.6/site-packages/Keras-2.1.5-py3.6.egg/keras/preprocessing/image.py:1117: UserWarning: NumpyArrayIterator is set to use the data format convention \"channels_last\" (channels on axis 3), i.e. expected either 1, 3 or 4 channels on axis 3. However, it was passed an array with shape (28710, 1, 48, 48) (48 channels).\n"
     ]
    },
    {
     "name": "stdout",
     "output_type": "stream",
     "text": [
      "Epoch 1/20\n",
      " - 53s - loss: 0.4055 - acc: 0.8548 - val_loss: 0.3877 - val_acc: 0.8571\n",
      "Epoch 2/20\n",
      " - 52s - loss: 0.3877 - acc: 0.8572 - val_loss: 0.3687 - val_acc: 0.8593\n",
      "Epoch 3/20\n",
      " - 52s - loss: 0.3543 - acc: 0.8653 - val_loss: 0.3301 - val_acc: 0.8726\n",
      "Epoch 4/20\n",
      " - 52s - loss: 0.3206 - acc: 0.8767 - val_loss: 0.2947 - val_acc: 0.8830\n",
      "Epoch 5/20\n",
      " - 52s - loss: 0.2959 - acc: 0.8833 - val_loss: 0.2786 - val_acc: 0.8874\n",
      "Epoch 6/20\n",
      " - 52s - loss: 0.2762 - acc: 0.8894 - val_loss: 0.2700 - val_acc: 0.8914\n",
      "Epoch 7/20\n",
      " - 52s - loss: 0.2649 - acc: 0.8930 - val_loss: 0.2605 - val_acc: 0.8944\n",
      "Epoch 8/20\n",
      " - 52s - loss: 0.2523 - acc: 0.8976 - val_loss: 0.2546 - val_acc: 0.8961\n",
      "Epoch 9/20\n",
      " - 52s - loss: 0.2389 - acc: 0.9031 - val_loss: 0.2617 - val_acc: 0.8950\n",
      "\n",
      "Epoch 00009: ReduceLROnPlateau reducing learning rate to 0.00010000000474974513.\n",
      "Epoch 10/20\n",
      " - 52s - loss: 0.2174 - acc: 0.9117 - val_loss: 0.2500 - val_acc: 0.8988\n",
      "Epoch 11/20\n",
      " - 52s - loss: 0.2097 - acc: 0.9151 - val_loss: 0.2510 - val_acc: 0.9018\n",
      "Epoch 12/20\n",
      " - 52s - loss: 0.2045 - acc: 0.9175 - val_loss: 0.2519 - val_acc: 0.9007\n",
      "\n",
      "Epoch 00012: ReduceLROnPlateau reducing learning rate to 1.0000000474974514e-05.\n",
      "Epoch 13/20\n",
      " - 52s - loss: 0.2006 - acc: 0.9193 - val_loss: 0.2514 - val_acc: 0.9012\n",
      "\n",
      "Epoch 00013: ReduceLROnPlateau reducing learning rate to 1.0000000656873453e-06.\n",
      "Epoch 14/20\n",
      " - 52s - loss: 0.2003 - acc: 0.9192 - val_loss: 0.2514 - val_acc: 0.9014\n",
      "\n",
      "Epoch 00014: ReduceLROnPlateau reducing learning rate to 1.0000001111620805e-07.\n",
      "Epoch 15/20\n",
      " - 52s - loss: 0.1991 - acc: 0.9195 - val_loss: 0.2514 - val_acc: 0.9014\n",
      "\n",
      "Epoch 00015: ReduceLROnPlateau reducing learning rate to 1.000000082740371e-08.\n",
      "Epoch 16/20\n",
      " - 52s - loss: 0.2005 - acc: 0.9193 - val_loss: 0.2514 - val_acc: 0.9014\n",
      "\n",
      "Epoch 00016: ReduceLROnPlateau reducing learning rate to 1.000000082740371e-09.\n",
      "Epoch 17/20\n",
      " - 52s - loss: 0.1999 - acc: 0.9199 - val_loss: 0.2514 - val_acc: 0.9014\n",
      "\n",
      "Epoch 00017: ReduceLROnPlateau reducing learning rate to 1.000000082740371e-10.\n",
      "Epoch 18/20\n",
      " - 52s - loss: 0.2001 - acc: 0.9194 - val_loss: 0.2514 - val_acc: 0.9014\n",
      "\n",
      "Epoch 00018: ReduceLROnPlateau reducing learning rate to 1.000000082740371e-11.\n",
      "Epoch 19/20\n",
      " - 52s - loss: 0.1992 - acc: 0.9201 - val_loss: 0.2514 - val_acc: 0.9014\n",
      "\n",
      "Epoch 00019: ReduceLROnPlateau reducing learning rate to 1.000000082740371e-12.\n",
      "Epoch 20/20\n",
      " - 52s - loss: 0.2003 - acc: 0.9189 - val_loss: 0.2514 - val_acc: 0.9014\n",
      "\n",
      "Epoch 00020: ReduceLROnPlateau reducing learning rate to 1.0000001044244145e-13.\n"
     ]
    }
   ],
   "source": [
    "history = model.fit_generator(datagen.flow(X_train, Y_train, batch_size=batch_size),\n",
    "                    steps_per_epoch=X.shape[0] // batch_size,\n",
    "                    callbacks=[lr_reduce],\n",
    "                    validation_data=(X_crossval, Y_crossval),\n",
    "                    epochs = epochs, verbose = 2)"
   ]
  },
  {
   "cell_type": "code",
   "execution_count": 32,
   "metadata": {
    "_uuid": "75ac793357b3ad27e6ec2d041429cb9b30d74b91",
    "collapsed": true
   },
   "outputs": [],
   "source": [
    "weights = model.get_weights()"
   ]
  },
  {
   "cell_type": "code",
   "execution_count": 33,
   "metadata": {
    "_uuid": "f1ab5082b0a6a2c7dcfbb4bac18b6d78135ffde2",
    "collapsed": true
   },
   "outputs": [],
   "source": [
    "np.save('my_model_weights', weights)"
   ]
  },
  {
   "cell_type": "code",
   "execution_count": 34,
   "metadata": {
    "_uuid": "ae1be1a46aec0d5b18088a5fa4a62cdce6ec315c"
   },
   "outputs": [
    {
     "data": {
      "image/png": "[encoded data removed]",
      "text/plain": [
       "<matplotlib.figure.Figure at 0x7f18757542b0>"
      ]
     },
     "metadata": {},
     "output_type": "display_data"
    },
    {
     "data": {
      "image/png": "[encoded data removed]",
      "text/plain": [
       "<matplotlib.figure.Figure at 0x7f1875608048>"
      ]
     },
     "metadata": {},
     "output_type": "display_data"
    }
   ],
   "source": [
    "plt.plot(history.history['acc'])\n",
    "plt.plot(history.history['val_acc'])\n",
    "plt.title('model accuracy')\n",
    "plt.ylabel('accuracy')\n",
    "plt.xlabel('epoch')\n",
    "plt.legend(['train', 'test'], loc='upper left')\n",
    "plt.show()\n",
    "# summarize history for loss\n",
    "plt.plot(history.history['loss'])\n",
    "plt.plot(history.history['val_loss'])\n",
    "plt.title('model loss')\n",
    "plt.ylabel('loss')\n",
    "plt.xlabel('epoch')\n",
    "plt.legend(['train', 'test'], loc='upper left')\n",
    "plt.show()"
   ]
  },
  {
   "cell_type": "code",
   "execution_count": null,
   "metadata": {
    "_uuid": "35005d2009307cb410dbf0dae35ce58ac5583ab7",
    "collapsed": true
   },
   "outputs": [],
   "source": []
  },
  {
   "cell_type": "code",
   "execution_count": null,
   "metadata": {
    "_uuid": "b8066455164b70723e34f1d595e53cf0d89de156",
    "collapsed": true
   },
   "outputs": [],
   "source": []
  },
  {
   "cell_type": "code",
   "execution_count": null,
   "metadata": {
    "_uuid": "5e2123b4474b9dd6ea4fe5b7b0789b8915da2bc2",
    "collapsed": true
   },
   "outputs": [],
   "source": []
  }
 ],
 "metadata": {
  "kernelspec": {
   "display_name": "Python 3",
   "language": "python",
   "name": "python3"
  },
  "language_info": {
   "codemirror_mode": {
    "name": "ipython",
    "version": 3
   },
   "file_extension": ".py",
   "mimetype": "text/x-python",
   "name": "python",
   "nbconvert_exporter": "python",
   "pygments_lexer": "ipython3",
   "version": "3.6.3"
  }
 },
 "nbformat": 4,
 "nbformat_minor": 1
}
